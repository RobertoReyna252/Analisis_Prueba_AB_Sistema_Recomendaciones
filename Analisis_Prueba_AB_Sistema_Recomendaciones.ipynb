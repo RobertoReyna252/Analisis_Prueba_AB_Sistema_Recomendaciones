{
 "cells": [
  {
   "cell_type": "markdown",
   "metadata": {},
   "source": [
    "Hola Roberto!\n",
    "\n",
    "Soy **Patricio Requena** 👋. Es un placer ser el revisor de tu proyecto el día de hoy!\n",
    "\n",
    "Revisaré tu proyecto detenidamente con el objetivo de ayudarte a mejorar y perfeccionar tus habilidades. Durante mi revisión, identificaré áreas donde puedas hacer mejoras en tu código, señalando específicamente qué y cómo podrías ajustar para optimizar el rendimiento y la claridad de tu proyecto. Además, es importante para mí destacar los aspectos que has manejado excepcionalmente bien. Reconocer tus fortalezas te ayudará a entender qué técnicas y métodos están funcionando a tu favor y cómo puedes aplicarlos en futuras tareas. \n",
    "\n",
    "_**Recuerda que al final de este notebook encontrarás un comentario general de mi parte**_, empecemos!\n",
    "\n",
    "Encontrarás mis comentarios dentro de cajas verdes, amarillas o rojas, ⚠️ **por favor, no muevas, modifiques o borres mis comentarios** ⚠️:\n",
    "\n",
    "\n",
    "<div class=\"alert alert-block alert-success\">\n",
    "<b>Comentario del revisor</b> <a class=“tocSkip”></a>\n",
    "Si todo está perfecto.\n",
    "</div>\n",
    "\n",
    "<div class=\"alert alert-block alert-warning\">\n",
    "<b>Comentario del revisor</b> <a class=“tocSkip”></a>\n",
    "Si tu código está bien pero se puede mejorar o hay algún detalle que le hace falta.\n",
    "</div>\n",
    "\n",
    "<div class=\"alert alert-block alert-danger\">\n",
    "<b>Comentario del revisor</b> <a class=“tocSkip”></a>\n",
    "Si de pronto hace falta algo o existe algún problema con tu código o conclusiones.\n",
    "</div>\n",
    "\n",
    "Puedes responderme de esta forma:\n",
    "<div class=\"alert alert-block alert-info\">\n",
    "<b>Respuesta del estudiante</b> <a class=“tocSkip”></a>\n",
    "</div>"
   ]
  },
  {
   "cell_type": "markdown",
   "metadata": {},
   "source": [
    "# Proyecto de pruebas A/B"
   ]
  },
  {
   "cell_type": "markdown",
   "metadata": {},
   "source": [
    "## Describe los objetivos del estudio.\n",
    "\n",
    "El objetivo del estudio es evaluar el impacto de un sistema de recomendaciones mejorado en el comportamiento de los usuarios dentro de los 14 días posteriores a su inscripción. Se espera observar un aumento del 10% en la conversión en cada etapa del embudo (product_page → product_cart → purchase)."
   ]
  },
  {
   "cell_type": "code",
   "execution_count": 1,
   "metadata": {},
   "outputs": [],
   "source": [
    "#Librerias\n",
    "import pandas as pd\n",
    "import matplotlib.pyplot as plt\n",
    "import numpy as np\n",
    "from statsmodels.stats.proportion import proportions_ztest"
   ]
  },
  {
   "cell_type": "code",
   "execution_count": 2,
   "metadata": {},
   "outputs": [],
   "source": [
    "#Carga de Datos\n",
    "marketing_events = pd.read_csv(\"/datasets/ab_project_marketing_events_us.csv\")\n",
    "new_users = pd.read_csv(\"/datasets/final_ab_new_users_upd_us.csv\")\n",
    "events = pd.read_csv(\"/datasets/final_ab_events_upd_us.csv\")\n",
    "participants = pd.read_csv(\"/datasets/final_ab_participants_upd_us.csv\")"
   ]
  },
  {
   "cell_type": "code",
   "execution_count": 3,
   "metadata": {},
   "outputs": [
    {
     "name": "stdout",
     "output_type": "stream",
     "text": [
      "<class 'pandas.core.frame.DataFrame'>\n",
      "RangeIndex: 14 entries, 0 to 13\n",
      "Data columns (total 4 columns):\n",
      " #   Column     Non-Null Count  Dtype \n",
      "---  ------     --------------  ----- \n",
      " 0   name       14 non-null     object\n",
      " 1   regions    14 non-null     object\n",
      " 2   start_dt   14 non-null     object\n",
      " 3   finish_dt  14 non-null     object\n",
      "dtypes: object(4)\n",
      "memory usage: 576.0+ bytes\n"
     ]
    },
    {
     "data": {
      "text/html": [
       "<div>\n",
       "<style scoped>\n",
       "    .dataframe tbody tr th:only-of-type {\n",
       "        vertical-align: middle;\n",
       "    }\n",
       "\n",
       "    .dataframe tbody tr th {\n",
       "        vertical-align: top;\n",
       "    }\n",
       "\n",
       "    .dataframe thead th {\n",
       "        text-align: right;\n",
       "    }\n",
       "</style>\n",
       "<table border=\"1\" class=\"dataframe\">\n",
       "  <thead>\n",
       "    <tr style=\"text-align: right;\">\n",
       "      <th></th>\n",
       "      <th>name</th>\n",
       "      <th>regions</th>\n",
       "      <th>start_dt</th>\n",
       "      <th>finish_dt</th>\n",
       "    </tr>\n",
       "  </thead>\n",
       "  <tbody>\n",
       "    <tr>\n",
       "      <th>0</th>\n",
       "      <td>Christmas&amp;New Year Promo</td>\n",
       "      <td>EU, N.America</td>\n",
       "      <td>2020-12-25</td>\n",
       "      <td>2021-01-03</td>\n",
       "    </tr>\n",
       "    <tr>\n",
       "      <th>1</th>\n",
       "      <td>St. Valentine's Day Giveaway</td>\n",
       "      <td>EU, CIS, APAC, N.America</td>\n",
       "      <td>2020-02-14</td>\n",
       "      <td>2020-02-16</td>\n",
       "    </tr>\n",
       "    <tr>\n",
       "      <th>2</th>\n",
       "      <td>St. Patric's Day Promo</td>\n",
       "      <td>EU, N.America</td>\n",
       "      <td>2020-03-17</td>\n",
       "      <td>2020-03-19</td>\n",
       "    </tr>\n",
       "    <tr>\n",
       "      <th>3</th>\n",
       "      <td>Easter Promo</td>\n",
       "      <td>EU, CIS, APAC, N.America</td>\n",
       "      <td>2020-04-12</td>\n",
       "      <td>2020-04-19</td>\n",
       "    </tr>\n",
       "    <tr>\n",
       "      <th>4</th>\n",
       "      <td>4th of July Promo</td>\n",
       "      <td>N.America</td>\n",
       "      <td>2020-07-04</td>\n",
       "      <td>2020-07-11</td>\n",
       "    </tr>\n",
       "  </tbody>\n",
       "</table>\n",
       "</div>"
      ],
      "text/plain": [
       "                           name                   regions    start_dt  \\\n",
       "0      Christmas&New Year Promo             EU, N.America  2020-12-25   \n",
       "1  St. Valentine's Day Giveaway  EU, CIS, APAC, N.America  2020-02-14   \n",
       "2        St. Patric's Day Promo             EU, N.America  2020-03-17   \n",
       "3                  Easter Promo  EU, CIS, APAC, N.America  2020-04-12   \n",
       "4             4th of July Promo                 N.America  2020-07-04   \n",
       "\n",
       "    finish_dt  \n",
       "0  2021-01-03  \n",
       "1  2020-02-16  \n",
       "2  2020-03-19  \n",
       "3  2020-04-19  \n",
       "4  2020-07-11  "
      ]
     },
     "execution_count": 3,
     "metadata": {},
     "output_type": "execute_result"
    }
   ],
   "source": [
    "#Para cada DataFrame, revisaremos los tipos de datos y los convertiremos si es necesario.\n",
    "marketing_events.info()\n",
    "marketing_events.head()"
   ]
  },
  {
   "cell_type": "code",
   "execution_count": 4,
   "metadata": {},
   "outputs": [
    {
     "name": "stdout",
     "output_type": "stream",
     "text": [
      "<class 'pandas.core.frame.DataFrame'>\n",
      "RangeIndex: 58703 entries, 0 to 58702\n",
      "Data columns (total 4 columns):\n",
      " #   Column      Non-Null Count  Dtype \n",
      "---  ------      --------------  ----- \n",
      " 0   user_id     58703 non-null  object\n",
      " 1   first_date  58703 non-null  object\n",
      " 2   region      58703 non-null  object\n",
      " 3   device      58703 non-null  object\n",
      "dtypes: object(4)\n",
      "memory usage: 1.8+ MB\n"
     ]
    },
    {
     "data": {
      "text/html": [
       "<div>\n",
       "<style scoped>\n",
       "    .dataframe tbody tr th:only-of-type {\n",
       "        vertical-align: middle;\n",
       "    }\n",
       "\n",
       "    .dataframe tbody tr th {\n",
       "        vertical-align: top;\n",
       "    }\n",
       "\n",
       "    .dataframe thead th {\n",
       "        text-align: right;\n",
       "    }\n",
       "</style>\n",
       "<table border=\"1\" class=\"dataframe\">\n",
       "  <thead>\n",
       "    <tr style=\"text-align: right;\">\n",
       "      <th></th>\n",
       "      <th>user_id</th>\n",
       "      <th>first_date</th>\n",
       "      <th>region</th>\n",
       "      <th>device</th>\n",
       "    </tr>\n",
       "  </thead>\n",
       "  <tbody>\n",
       "    <tr>\n",
       "      <th>0</th>\n",
       "      <td>D72A72121175D8BE</td>\n",
       "      <td>2020-12-07</td>\n",
       "      <td>EU</td>\n",
       "      <td>PC</td>\n",
       "    </tr>\n",
       "    <tr>\n",
       "      <th>1</th>\n",
       "      <td>F1C668619DFE6E65</td>\n",
       "      <td>2020-12-07</td>\n",
       "      <td>N.America</td>\n",
       "      <td>Android</td>\n",
       "    </tr>\n",
       "    <tr>\n",
       "      <th>2</th>\n",
       "      <td>2E1BF1D4C37EA01F</td>\n",
       "      <td>2020-12-07</td>\n",
       "      <td>EU</td>\n",
       "      <td>PC</td>\n",
       "    </tr>\n",
       "    <tr>\n",
       "      <th>3</th>\n",
       "      <td>50734A22C0C63768</td>\n",
       "      <td>2020-12-07</td>\n",
       "      <td>EU</td>\n",
       "      <td>iPhone</td>\n",
       "    </tr>\n",
       "    <tr>\n",
       "      <th>4</th>\n",
       "      <td>E1BDDCE0DAFA2679</td>\n",
       "      <td>2020-12-07</td>\n",
       "      <td>N.America</td>\n",
       "      <td>iPhone</td>\n",
       "    </tr>\n",
       "  </tbody>\n",
       "</table>\n",
       "</div>"
      ],
      "text/plain": [
       "            user_id  first_date     region   device\n",
       "0  D72A72121175D8BE  2020-12-07         EU       PC\n",
       "1  F1C668619DFE6E65  2020-12-07  N.America  Android\n",
       "2  2E1BF1D4C37EA01F  2020-12-07         EU       PC\n",
       "3  50734A22C0C63768  2020-12-07         EU   iPhone\n",
       "4  E1BDDCE0DAFA2679  2020-12-07  N.America   iPhone"
      ]
     },
     "execution_count": 4,
     "metadata": {},
     "output_type": "execute_result"
    }
   ],
   "source": [
    "new_users.info()\n",
    "new_users.head()"
   ]
  },
  {
   "cell_type": "code",
   "execution_count": 5,
   "metadata": {},
   "outputs": [
    {
     "name": "stdout",
     "output_type": "stream",
     "text": [
      "<class 'pandas.core.frame.DataFrame'>\n",
      "RangeIndex: 423761 entries, 0 to 423760\n",
      "Data columns (total 4 columns):\n",
      " #   Column      Non-Null Count   Dtype  \n",
      "---  ------      --------------   -----  \n",
      " 0   user_id     423761 non-null  object \n",
      " 1   event_dt    423761 non-null  object \n",
      " 2   event_name  423761 non-null  object \n",
      " 3   details     60314 non-null   float64\n",
      "dtypes: float64(1), object(3)\n",
      "memory usage: 12.9+ MB\n"
     ]
    },
    {
     "data": {
      "text/html": [
       "<div>\n",
       "<style scoped>\n",
       "    .dataframe tbody tr th:only-of-type {\n",
       "        vertical-align: middle;\n",
       "    }\n",
       "\n",
       "    .dataframe tbody tr th {\n",
       "        vertical-align: top;\n",
       "    }\n",
       "\n",
       "    .dataframe thead th {\n",
       "        text-align: right;\n",
       "    }\n",
       "</style>\n",
       "<table border=\"1\" class=\"dataframe\">\n",
       "  <thead>\n",
       "    <tr style=\"text-align: right;\">\n",
       "      <th></th>\n",
       "      <th>user_id</th>\n",
       "      <th>event_dt</th>\n",
       "      <th>event_name</th>\n",
       "      <th>details</th>\n",
       "    </tr>\n",
       "  </thead>\n",
       "  <tbody>\n",
       "    <tr>\n",
       "      <th>0</th>\n",
       "      <td>E1BDDCE0DAFA2679</td>\n",
       "      <td>2020-12-07 20:22:03</td>\n",
       "      <td>purchase</td>\n",
       "      <td>99.99</td>\n",
       "    </tr>\n",
       "    <tr>\n",
       "      <th>1</th>\n",
       "      <td>7B6452F081F49504</td>\n",
       "      <td>2020-12-07 09:22:53</td>\n",
       "      <td>purchase</td>\n",
       "      <td>9.99</td>\n",
       "    </tr>\n",
       "    <tr>\n",
       "      <th>2</th>\n",
       "      <td>9CD9F34546DF254C</td>\n",
       "      <td>2020-12-07 12:59:29</td>\n",
       "      <td>purchase</td>\n",
       "      <td>4.99</td>\n",
       "    </tr>\n",
       "    <tr>\n",
       "      <th>3</th>\n",
       "      <td>96F27A054B191457</td>\n",
       "      <td>2020-12-07 04:02:40</td>\n",
       "      <td>purchase</td>\n",
       "      <td>4.99</td>\n",
       "    </tr>\n",
       "    <tr>\n",
       "      <th>4</th>\n",
       "      <td>1FD7660FDF94CA1F</td>\n",
       "      <td>2020-12-07 10:15:09</td>\n",
       "      <td>purchase</td>\n",
       "      <td>4.99</td>\n",
       "    </tr>\n",
       "  </tbody>\n",
       "</table>\n",
       "</div>"
      ],
      "text/plain": [
       "            user_id             event_dt event_name  details\n",
       "0  E1BDDCE0DAFA2679  2020-12-07 20:22:03   purchase    99.99\n",
       "1  7B6452F081F49504  2020-12-07 09:22:53   purchase     9.99\n",
       "2  9CD9F34546DF254C  2020-12-07 12:59:29   purchase     4.99\n",
       "3  96F27A054B191457  2020-12-07 04:02:40   purchase     4.99\n",
       "4  1FD7660FDF94CA1F  2020-12-07 10:15:09   purchase     4.99"
      ]
     },
     "execution_count": 5,
     "metadata": {},
     "output_type": "execute_result"
    }
   ],
   "source": [
    "events.info()\n",
    "events.head()"
   ]
  },
  {
   "cell_type": "code",
   "execution_count": 6,
   "metadata": {},
   "outputs": [
    {
     "name": "stdout",
     "output_type": "stream",
     "text": [
      "<class 'pandas.core.frame.DataFrame'>\n",
      "RangeIndex: 14525 entries, 0 to 14524\n",
      "Data columns (total 3 columns):\n",
      " #   Column   Non-Null Count  Dtype \n",
      "---  ------   --------------  ----- \n",
      " 0   user_id  14525 non-null  object\n",
      " 1   group    14525 non-null  object\n",
      " 2   ab_test  14525 non-null  object\n",
      "dtypes: object(3)\n",
      "memory usage: 340.6+ KB\n"
     ]
    },
    {
     "data": {
      "text/html": [
       "<div>\n",
       "<style scoped>\n",
       "    .dataframe tbody tr th:only-of-type {\n",
       "        vertical-align: middle;\n",
       "    }\n",
       "\n",
       "    .dataframe tbody tr th {\n",
       "        vertical-align: top;\n",
       "    }\n",
       "\n",
       "    .dataframe thead th {\n",
       "        text-align: right;\n",
       "    }\n",
       "</style>\n",
       "<table border=\"1\" class=\"dataframe\">\n",
       "  <thead>\n",
       "    <tr style=\"text-align: right;\">\n",
       "      <th></th>\n",
       "      <th>user_id</th>\n",
       "      <th>group</th>\n",
       "      <th>ab_test</th>\n",
       "    </tr>\n",
       "  </thead>\n",
       "  <tbody>\n",
       "    <tr>\n",
       "      <th>0</th>\n",
       "      <td>D1ABA3E2887B6A73</td>\n",
       "      <td>A</td>\n",
       "      <td>recommender_system_test</td>\n",
       "    </tr>\n",
       "    <tr>\n",
       "      <th>1</th>\n",
       "      <td>A7A3664BD6242119</td>\n",
       "      <td>A</td>\n",
       "      <td>recommender_system_test</td>\n",
       "    </tr>\n",
       "    <tr>\n",
       "      <th>2</th>\n",
       "      <td>DABC14FDDFADD29E</td>\n",
       "      <td>A</td>\n",
       "      <td>recommender_system_test</td>\n",
       "    </tr>\n",
       "    <tr>\n",
       "      <th>3</th>\n",
       "      <td>04988C5DF189632E</td>\n",
       "      <td>A</td>\n",
       "      <td>recommender_system_test</td>\n",
       "    </tr>\n",
       "    <tr>\n",
       "      <th>4</th>\n",
       "      <td>4FF2998A348C484F</td>\n",
       "      <td>A</td>\n",
       "      <td>recommender_system_test</td>\n",
       "    </tr>\n",
       "  </tbody>\n",
       "</table>\n",
       "</div>"
      ],
      "text/plain": [
       "            user_id group                  ab_test\n",
       "0  D1ABA3E2887B6A73     A  recommender_system_test\n",
       "1  A7A3664BD6242119     A  recommender_system_test\n",
       "2  DABC14FDDFADD29E     A  recommender_system_test\n",
       "3  04988C5DF189632E     A  recommender_system_test\n",
       "4  4FF2998A348C484F     A  recommender_system_test"
      ]
     },
     "execution_count": 6,
     "metadata": {},
     "output_type": "execute_result"
    }
   ],
   "source": [
    "participants.info()\n",
    "participants.head()"
   ]
  },
  {
   "cell_type": "markdown",
   "metadata": {},
   "source": [
    "<div class=\"alert alert-block alert-success\">\n",
    "<b>Comentario del revisor (1ra Iteracion)</b> <a class=“tocSkip”></a>\n",
    "\n",
    "Buen trabajo con la carga y revisión inicial de los datos\n",
    "</div>"
   ]
  },
  {
   "cell_type": "markdown",
   "metadata": {},
   "source": [
    "### Explora los datos:"
   ]
  },
  {
   "cell_type": "markdown",
   "metadata": {},
   "source": [
    "¿Es necesario convertir los tipos?"
   ]
  },
  {
   "cell_type": "code",
   "execution_count": 7,
   "metadata": {},
   "outputs": [],
   "source": [
    "marketing_events['start_dt'] = pd.to_datetime(marketing_events['start_dt'])\n",
    "marketing_events['finish_dt'] = pd.to_datetime(marketing_events['finish_dt'])\n",
    "new_users['first_date'] = pd.to_datetime(new_users['first_date'])\n",
    "events['event_dt'] = pd.to_datetime(events['event_dt'])"
   ]
  },
  {
   "cell_type": "markdown",
   "metadata": {},
   "source": [
    "Es necesario convertir las fechas de string a datetime para poder realizar análisis y manipulaciones temporales precisas, como calcular duraciones, filtrar por rangos de fechas y generar gráficos de series temporales."
   ]
  },
  {
   "cell_type": "markdown",
   "metadata": {},
   "source": [
    "### ¿Hay valores ausentes o duplicados? Si es así, ¿cómo los caracterizarías?"
   ]
  },
  {
   "cell_type": "code",
   "execution_count": 8,
   "metadata": {},
   "outputs": [
    {
     "name": "stdout",
     "output_type": "stream",
     "text": [
      "name         0\n",
      "regions      0\n",
      "start_dt     0\n",
      "finish_dt    0\n",
      "dtype: int64\n",
      "\n",
      "user_id       0\n",
      "first_date    0\n",
      "region        0\n",
      "device        0\n",
      "dtype: int64\n",
      "\n",
      "user_id            0\n",
      "event_dt           0\n",
      "event_name         0\n",
      "details       363447\n",
      "dtype: int64\n",
      "\n",
      "user_id    0\n",
      "group      0\n",
      "ab_test    0\n",
      "dtype: int64\n"
     ]
    }
   ],
   "source": [
    "# Verificar valores ausentes\n",
    "print(marketing_events.isnull().sum())\n",
    "print()\n",
    "print(new_users.isnull().sum())\n",
    "print()\n",
    "print(events.isnull().sum())\n",
    "print()\n",
    "print(participants.isnull().sum())"
   ]
  },
  {
   "cell_type": "code",
   "execution_count": 9,
   "metadata": {},
   "outputs": [
    {
     "name": "stdout",
     "output_type": "stream",
     "text": [
      "0\n",
      "0\n",
      "0\n",
      "0\n"
     ]
    }
   ],
   "source": [
    "# Verificar duplicados\n",
    "print(marketing_events.duplicated().sum())\n",
    "print(new_users.duplicated().sum())\n",
    "print(events.duplicated().sum())\n",
    "print(participants.duplicated().sum())"
   ]
  },
  {
   "cell_type": "markdown",
   "metadata": {},
   "source": [
    "En la base de datos events, se observan valores ausentes en la columna details. Estos valores ausentes suman un total de 363,447. La razón probable es que la columna details solo contiene información adicional para ciertos tipos de eventos, como purchase, donde se detalla el monto de la compra, mientras que otros eventos, como product_page y product_cart, no requieren esta información adicional.\n",
    "\n",
    "En cuanto a duplicados, ninguno de los DataFrames (marketing_events, new_users, events y participants) presenta registros duplicados. Esto asegura que los datos son únicos y no hay entradas repetidas que puedan sesgar el análisis.\n",
    "\n",
    "Por lo tanto, no es necesario eliminar los valores ausentes en la columna details del DataFrame events, ya que son esperados y no afectan la integridad del análisis."
   ]
  },
  {
   "cell_type": "markdown",
   "metadata": {},
   "source": [
    "<div class=\"alert alert-block alert-success\">\n",
    "<b>Comentario del revisor (1ra Iteracion)</b> <a class=“tocSkip”></a>\n",
    "\n",
    "Muy buen trabajo con la transformación de datos y revisando los datos nulos y duplicados, un dataset limpio es clave para una buena toma de decisiones en un experimento\n",
    "</div>"
   ]
  },
  {
   "cell_type": "markdown",
   "metadata": {},
   "source": [
    "## Lleva a cabo el análisis exploratorio de datos:"
   ]
  },
  {
   "cell_type": "markdown",
   "metadata": {},
   "source": [
    "### Estudiar la Conversión en las Diferentes Etapas del Embudo"
   ]
  },
  {
   "cell_type": "code",
   "execution_count": 10,
   "metadata": {},
   "outputs": [
    {
     "data": {
      "text/plain": [
       "event_name\n",
       "login           1.000000\n",
       "product_cart    0.328540\n",
       "product_page    0.663231\n",
       "purchase        0.333379\n",
       "Name: user_id, dtype: float64"
      ]
     },
     "execution_count": 10,
     "metadata": {},
     "output_type": "execute_result"
    }
   ],
   "source": [
    "# Filtrar eventos relevantes para el embudo\n",
    "embudo_events = events[events['event_name'].isin(['login', 'product_page', 'product_cart', 'purchase'])]\n",
    "\n",
    "# Calcular el número total de usuarios que realizaron login\n",
    "total_logins = events[events['event_name'] == 'login']['user_id'].nunique()\n",
    "\n",
    "# Calcular el número de usuarios únicos en cada etapa del embudo\n",
    "embudo_users = embudo_events.groupby('event_name')['user_id'].nunique()\n",
    "\n",
    "# Calcular las tasas de conversión desde login\n",
    "conversion_rates_corrected = embudo_users / total_logins\n",
    "conversion_rates_corrected"
   ]
  },
  {
   "cell_type": "markdown",
   "metadata": {},
   "source": [
    "**Resultados Corregidos de la Tasa de Conversión**\n",
    "\n",
    "**login:** 100.00% (todos los usuarios que iniciaron sesión)\n",
    "\n",
    "**product_page:** 66.32% (usuarios que vieron una página de producto)\n",
    "\n",
    "**product_cart:** 32.85% (usuarios que agregaron un producto al carrito)\n",
    "\n",
    "**purchase:** 33.34% (usuarios que completaron una compra)"
   ]
  },
  {
   "cell_type": "markdown",
   "metadata": {},
   "source": [
    "<div class=\"alert alert-block alert-danger\">\n",
    "<b>Comentario del revisor (1ra Iteracion)</b> <a class=“tocSkip”></a>\n",
    "\n",
    "La tasa de conversión debe ser un valor entre 0 y 1, ya que de lo contrario esta métrica nos diría (cuando vale 3.1) que por cada usuario que empieza el embudo realiza 3 login (Cada embudo empieza con un login). \n",
    "    \n",
    "Para calcular las proporciones te recomiendo hacer un conteo para la primera página que ve el usuario (login) y eso tomar cómo si fuera tu 100% y a partir de ahí ver cuantos de esos usuarios pasaron a otra pantalla cómo product_cart. Tu cálculo debería ser algo tipo: `total_eventos_product_cart  /  total_eventos_login`\n",
    "</div>\n",
    "\n",
    "<div class=\"alert alert-block alert-info\">\n",
    "<b>Corregido</b> <a class=“tocSkip”></a>\n",
    "</div>"
   ]
  },
  {
   "cell_type": "markdown",
   "metadata": {},
   "source": [
    "### Verificar si el Número de Eventos por Usuario está Distribuido Equitativamente entre las Muestras"
   ]
  },
  {
   "cell_type": "code",
   "execution_count": 11,
   "metadata": {},
   "outputs": [
    {
     "data": {
      "text/html": [
       "<div>\n",
       "<style scoped>\n",
       "    .dataframe tbody tr th:only-of-type {\n",
       "        vertical-align: middle;\n",
       "    }\n",
       "\n",
       "    .dataframe tbody tr th {\n",
       "        vertical-align: top;\n",
       "    }\n",
       "\n",
       "    .dataframe thead th {\n",
       "        text-align: right;\n",
       "    }\n",
       "</style>\n",
       "<table border=\"1\" class=\"dataframe\">\n",
       "  <thead>\n",
       "    <tr style=\"text-align: right;\">\n",
       "      <th></th>\n",
       "      <th>count</th>\n",
       "      <th>mean</th>\n",
       "      <th>std</th>\n",
       "      <th>min</th>\n",
       "      <th>25%</th>\n",
       "      <th>50%</th>\n",
       "      <th>75%</th>\n",
       "      <th>max</th>\n",
       "    </tr>\n",
       "    <tr>\n",
       "      <th>group</th>\n",
       "      <th></th>\n",
       "      <th></th>\n",
       "      <th></th>\n",
       "      <th></th>\n",
       "      <th></th>\n",
       "      <th></th>\n",
       "      <th></th>\n",
       "      <th></th>\n",
       "    </tr>\n",
       "  </thead>\n",
       "  <tbody>\n",
       "    <tr>\n",
       "      <th>A</th>\n",
       "      <td>7874.0</td>\n",
       "      <td>7.45555</td>\n",
       "      <td>4.475159</td>\n",
       "      <td>1.0</td>\n",
       "      <td>4.0</td>\n",
       "      <td>6.0</td>\n",
       "      <td>9.0</td>\n",
       "      <td>40.0</td>\n",
       "    </tr>\n",
       "    <tr>\n",
       "      <th>B</th>\n",
       "      <td>6205.0</td>\n",
       "      <td>7.11249</td>\n",
       "      <td>4.246201</td>\n",
       "      <td>1.0</td>\n",
       "      <td>4.0</td>\n",
       "      <td>6.0</td>\n",
       "      <td>9.0</td>\n",
       "      <td>36.0</td>\n",
       "    </tr>\n",
       "  </tbody>\n",
       "</table>\n",
       "</div>"
      ],
      "text/plain": [
       "        count     mean       std  min  25%  50%  75%   max\n",
       "group                                                     \n",
       "A      7874.0  7.45555  4.475159  1.0  4.0  6.0  9.0  40.0\n",
       "B      6205.0  7.11249  4.246201  1.0  4.0  6.0  9.0  36.0"
      ]
     },
     "execution_count": 11,
     "metadata": {},
     "output_type": "execute_result"
    }
   ],
   "source": [
    "# Añadir la información del grupo a los eventos\n",
    "events = events.merge(participants[['user_id', 'group']], on='user_id', how='left')\n",
    "\n",
    "# Calcular el número de eventos por usuario para cada grupo\n",
    "events_per_user = events.groupby(['user_id', 'group']).size().reset_index(name='num_events')\n",
    "\n",
    "# Comparar la distribución de eventos por usuario entre los grupos\n",
    "events_per_user.groupby('group')['num_events'].describe()"
   ]
  },
  {
   "cell_type": "markdown",
   "metadata": {},
   "source": [
    "**Grupo A (Control):**\n",
    "\n",
    "Media: 7.46 eventos por usuario\n",
    "Desviación estándar: 4.48\n",
    "\n",
    "**Grupo B (Nuevo embudo de pago):**\n",
    "\n",
    "Media: 7.11 eventos por usuario\n",
    "Desviación estándar: 4.25\n",
    "\n",
    "\n",
    "La distribución de eventos por usuario es similar entre los dos grupos, con una media y desviación estándar comparable. Esto sugiere que los eventos están distribuidos de manera equitativa entre las muestras."
   ]
  },
  {
   "cell_type": "markdown",
   "metadata": {},
   "source": [
    "### Comprobar si Hay Usuarios Presentes en Ambas Muestras"
   ]
  },
  {
   "cell_type": "code",
   "execution_count": 12,
   "metadata": {},
   "outputs": [
    {
     "data": {
      "text/plain": [
       "441"
      ]
     },
     "execution_count": 12,
     "metadata": {},
     "output_type": "execute_result"
    }
   ],
   "source": [
    "# Verificar si hay usuarios presentes en ambos grupos\n",
    "users_in_both_groups = participants.groupby('user_id')['group'].nunique()\n",
    "users_in_both_groups = users_in_both_groups[users_in_both_groups > 1]\n",
    "users_in_both_groups.count()"
   ]
  },
  {
   "cell_type": "markdown",
   "metadata": {},
   "source": [
    "**Se encontraron 441 usuarios** que están presentes en ambos grupos A y B.\n",
    "\n",
    "La presencia de estos usuarios en ambos grupos puede introducir sesgos en el análisis y debe ser tenida en cuenta al interpretar los resultados de la prueba A/B."
   ]
  },
  {
   "cell_type": "markdown",
   "metadata": {},
   "source": [
    "### Analizar la Distribución del Número de Eventos entre los Días"
   ]
  },
  {
   "cell_type": "code",
   "execution_count": 13,
   "metadata": {},
   "outputs": [
    {
     "data": {
      "image/png": "[encoded data removed]",
      "text/plain": [
       "<Figure size 1200x600 with 1 Axes>"
      ]
     },
     "metadata": {},
     "output_type": "display_data"
    }
   ],
   "source": [
    "# Agregar columna con la fecha sin la hora\n",
    "events['event_date'] = events['event_dt'].dt.date\n",
    "\n",
    "# Contar el número de eventos por día\n",
    "events_per_day = events.groupby('event_date').size().reset_index(name='num_events')\n",
    "\n",
    "plt.figure(figsize=(12, 6))\n",
    "plt.plot(events_per_day['event_date'], events_per_day['num_events'])\n",
    "plt.xlabel('Fecha')\n",
    "plt.ylabel('Número de Eventos')\n",
    "plt.title('Distribución de Eventos por Día')\n",
    "plt.xticks(rotation=45)\n",
    "plt.grid(True)\n",
    "plt.show()\n"
   ]
  },
  {
   "cell_type": "markdown",
   "metadata": {},
   "source": [
    "**El gráfico de distribución de eventos por día muestra variaciones significativas a lo largo del tiempo:**\n",
    "\n",
    "**Picos de Actividad:** Hay un aumento notable en el número de eventos hacia mediados de diciembre, alcanzando un pico alrededor del 21 de diciembre.\n",
    "\n",
    "**Caídas:** \n",
    "Después del 25 de diciembre, hay una disminución en el número de eventos.\n",
    "\n",
    "Estos picos y caídas pueden estar influenciados por eventos externos, como campañas de marketing o periodos de alta actividad debido a las festividades.\n",
    "\n"
   ]
  },
  {
   "cell_type": "markdown",
   "metadata": {},
   "source": [
    "<div class=\"alert alert-block alert-success\">\n",
    "<b>Comentario del revisor (1ra Iteracion)</b> <a class=“tocSkip”></a>\n",
    "\n",
    "Correcto! Esta parte de tu análisis está muy bien realizada. Te recomendaría redactar tu interpretación de los resultados\n",
    "</div>\n",
    "\n",
    "\n",
    "<div class=\"alert alert-block alert-info\">\n",
    "<b>Corregido</b> <a class=“tocSkip”></a>\n",
    "    \n",
    "   Se agrego los comentarios de la interpretacion\n",
    "</div>"
   ]
  },
  {
   "cell_type": "markdown",
   "metadata": {},
   "source": [
    "### ¿Hay alguna peculiaridad en los datos que hay que tener en cuenta antes de iniciar la prueba A/B?"
   ]
  },
  {
   "cell_type": "code",
   "execution_count": 14,
   "metadata": {},
   "outputs": [
    {
     "data": {
      "text/html": [
       "<div>\n",
       "<style scoped>\n",
       "    .dataframe tbody tr th:only-of-type {\n",
       "        vertical-align: middle;\n",
       "    }\n",
       "\n",
       "    .dataframe tbody tr th {\n",
       "        vertical-align: top;\n",
       "    }\n",
       "\n",
       "    .dataframe thead th {\n",
       "        text-align: right;\n",
       "    }\n",
       "</style>\n",
       "<table border=\"1\" class=\"dataframe\">\n",
       "  <thead>\n",
       "    <tr style=\"text-align: right;\">\n",
       "      <th></th>\n",
       "      <th>num_events</th>\n",
       "    </tr>\n",
       "  </thead>\n",
       "  <tbody>\n",
       "    <tr>\n",
       "      <th>count</th>\n",
       "      <td>23.000000</td>\n",
       "    </tr>\n",
       "    <tr>\n",
       "      <th>mean</th>\n",
       "      <td>18672.869565</td>\n",
       "    </tr>\n",
       "    <tr>\n",
       "      <th>std</th>\n",
       "      <td>7765.996718</td>\n",
       "    </tr>\n",
       "    <tr>\n",
       "      <th>min</th>\n",
       "      <td>91.000000</td>\n",
       "    </tr>\n",
       "    <tr>\n",
       "      <th>25%</th>\n",
       "      <td>12629.000000</td>\n",
       "    </tr>\n",
       "    <tr>\n",
       "      <th>50%</th>\n",
       "      <td>19656.000000</td>\n",
       "    </tr>\n",
       "    <tr>\n",
       "      <th>75%</th>\n",
       "      <td>24226.000000</td>\n",
       "    </tr>\n",
       "    <tr>\n",
       "      <th>max</th>\n",
       "      <td>33113.000000</td>\n",
       "    </tr>\n",
       "  </tbody>\n",
       "</table>\n",
       "</div>"
      ],
      "text/plain": [
       "         num_events\n",
       "count     23.000000\n",
       "mean   18672.869565\n",
       "std     7765.996718\n",
       "min       91.000000\n",
       "25%    12629.000000\n",
       "50%    19656.000000\n",
       "75%    24226.000000\n",
       "max    33113.000000"
      ]
     },
     "execution_count": 14,
     "metadata": {},
     "output_type": "execute_result"
    },
    {
     "data": {
      "image/png": "[encoded data removed]",
      "text/plain": [
       "<Figure size 640x480 with 1 Axes>"
      ]
     },
     "metadata": {},
     "output_type": "display_data"
    }
   ],
   "source": [
    "# Verificar la presencia de eventos atípicos (outliers)\n",
    "events_per_user.boxplot(by='group', column=['num_events'], grid=False)\n",
    "\n",
    "# Analizar si hay picos o caídas significativas en el número de eventos\n",
    "events_per_day.describe()"
   ]
  },
  {
   "cell_type": "markdown",
   "metadata": {},
   "source": [
    "## Evaluar los resultados de la prueba A/B:"
   ]
  },
  {
   "cell_type": "code",
   "execution_count": 15,
   "metadata": {},
   "outputs": [
    {
     "data": {
      "text/plain": [
       "(event_name\n",
       " product_cart    0.315342\n",
       " product_page    0.661417\n",
       " purchase        0.340615\n",
       " Name: user_id, dtype: float64,\n",
       " event_name\n",
       " product_cart    0.328284\n",
       " product_page    0.642385\n",
       " purchase        0.323610\n",
       " Name: user_id, dtype: float64)"
      ]
     },
     "execution_count": 15,
     "metadata": {},
     "output_type": "execute_result"
    }
   ],
   "source": [
    "# Filtrar eventos relevantes para el embudo\n",
    "embudo_events = events[events['event_name'].isin(['product_page', 'product_cart', 'purchase'])]\n",
    "\n",
    "# Calcular el número de usuarios únicos en cada etapa del embudo para cada grupo\n",
    "conversion_a = embudo_events[embudo_events['group'] == 'A'].groupby('event_name')['user_id'].nunique()\n",
    "conversion_b = embudo_events[embudo_events['group'] == 'B'].groupby('event_name')['user_id'].nunique()\n",
    "\n",
    "# Número total de usuarios en cada grupo\n",
    "total_users_a = participants[participants['group'] == 'A']['user_id'].nunique()\n",
    "total_users_b = participants[participants['group'] == 'B']['user_id'].nunique()\n",
    "\n",
    "# Calcular las tasas de conversión\n",
    "conversion_rates_a = conversion_a / total_users_a\n",
    "conversion_rates_b = conversion_b / total_users_b\n",
    "\n",
    "conversion_rates_a, conversion_rates_b"
   ]
  },
  {
   "cell_type": "markdown",
   "metadata": {},
   "source": [
    "### ¿Hay alguna peculiaridad en los datos que hay que tener en cuenta antes de iniciar la prueba A/B?\n",
    "\n",
    "Sí, hay varias peculiaridades a considerar:\n",
    "\n",
    "**Usuarios en Ambos Grupos:**\n",
    "\n",
    "Hay 441 usuarios presentes en ambos grupos A y B, lo que podría introducir sesgos en el análisis.\n",
    "\n",
    "**Distribución de Eventos:**\n",
    "\n",
    "La distribución de eventos muestra picos significativos hacia mediados de diciembre y una disminución después del 25 de diciembre, posiblemente debido a eventos de marketing u otros factores externos."
   ]
  },
  {
   "cell_type": "markdown",
   "metadata": {},
   "source": [
    "### Evaluar los resultados de la prueba A/B:"
   ]
  },
  {
   "cell_type": "code",
   "execution_count": 16,
   "metadata": {},
   "outputs": [
    {
     "data": {
      "text/plain": [
       "(0.10247322568368834, 0.03355878472437525)"
      ]
     },
     "execution_count": 16,
     "metadata": {},
     "output_type": "execute_result"
    }
   ],
   "source": [
    "# Definir una función para realizar la prueba z\n",
    "def z_test_proportion(success_a, size_a, success_b, size_b):\n",
    "    count = np.array([success_a, success_b])\n",
    "    nobs = np.array([size_a, size_b])\n",
    "    stat, pval = proportions_ztest(count, nobs)\n",
    "    return pval\n",
    "\n",
    "# Realizar la prueba z para cada etapa del embudo\n",
    "pval_product_page_to_cart = z_test_proportion(conversion_a['product_cart'], total_users_a, conversion_b['product_cart'], total_users_b)\n",
    "pval_cart_to_purchase = z_test_proportion(conversion_a['purchase'], total_users_a, conversion_b['purchase'], total_users_b)\n",
    "\n",
    "pval_product_page_to_cart, pval_cart_to_purchase\n"
   ]
  },
  {
   "cell_type": "code",
   "execution_count": 17,
   "metadata": {},
   "outputs": [
    {
     "name": "stdout",
     "output_type": "stream",
     "text": [
      "Tasa de conversión de 'product_page' a 'product_cart':\n",
      "Grupo A: 0.3153, Grupo B: 0.3283\n",
      "Valor p: 0.1025 (No significativo)\n",
      "\n",
      "Tasa de conversión de 'product_cart' a 'purchase':\n",
      "Grupo A: 0.3406, Grupo B: 0.3236\n",
      "Valor p: 0.0336 (Significativo)\n"
     ]
    }
   ],
   "source": [
    "# Interpretar los resultados\n",
    "alpha = 0.05\n",
    "\n",
    "print(f\"Tasa de conversión de 'product_page' a 'product_cart':\")\n",
    "print(f\"Grupo A: {conversion_rates_a['product_cart']:.4f}, Grupo B: {conversion_rates_b['product_cart']:.4f}\")\n",
    "print(f\"Valor p: {pval_product_page_to_cart:.4f} {'(Significativo)' if pval_product_page_to_cart < alpha else '(No significativo)'}\")\n",
    "\n",
    "print(f\"\\nTasa de conversión de 'product_cart' a 'purchase':\")\n",
    "print(f\"Grupo A: {conversion_rates_a['purchase']:.4f}, Grupo B: {conversion_rates_b['purchase']:.4f}\")\n",
    "print(f\"Valor p: {pval_cart_to_purchase:.4f} {'(Significativo)' if pval_cart_to_purchase < alpha else '(No significativo)'}\")\n"
   ]
  },
  {
   "cell_type": "markdown",
   "metadata": {},
   "source": [
    "### ¿Qué puedes decir sobre los resultados de la prueba A/B?\n",
    "\n",
    "Resultados de la Prueba A/B\n",
    "\n",
    "**Tasa de Conversión de product_page a product_cart:**\n",
    "\n",
    "Grupo A (Control): 31.53%\n",
    "Grupo B (Nuevo embudo de pago): 32.83%\n",
    "Valor p: 0.1025 (No significativo)\n",
    "\n",
    "**Tasa de Conversión de product_cart a purchase:**\n",
    "\n",
    "Grupo A (Control): 34.06%\n",
    "Grupo B (Nuevo embudo de pago): 32.36%\n",
    "Valor p: 0.0337 (Significativo)\n"
   ]
  },
  {
   "cell_type": "markdown",
   "metadata": {},
   "source": [
    "### Utiliza una prueba z para comprobar la diferencia estadística entre las proporciones."
   ]
  },
  {
   "cell_type": "markdown",
   "metadata": {},
   "source": [
    "La prueba z se utilizó para comparar las tasas de conversión entre los grupos A y B en cada etapa del embudo. Los resultados son los siguientes:\n",
    "\n",
    "**De product_page a product_cart:**\n",
    "\n",
    "La diferencia en las tasas de conversión no es estadísticamente significativa (p-valor: 0.1025).\n",
    "\n",
    "**De product_cart a purchase:**\n",
    "\n",
    "La diferencia en las tasas de conversión es estadísticamente significativa (p-valor: 0.0337)."
   ]
  },
  {
   "cell_type": "markdown",
   "metadata": {},
   "source": [
    " ## Describe tus conclusiones con respecto a la etapa EDA y los resultados de la prueba A/B."
   ]
  },
  {
   "cell_type": "markdown",
   "metadata": {},
   "source": [
    "**Conversión en el Embudo:**\n",
    "\n",
    "Las tasas de conversión muestran que aproximadamente la mitad de los usuarios avanzan de una etapa a la siguiente en el embudo de ventas.\n",
    "\n",
    "**Distribución de Eventos:**\n",
    "\n",
    "La distribución del número de eventos por usuario es similar entre los grupos A y B, lo que sugiere una distribución equilibrada.\n",
    "\n",
    "**Usuarios en Ambos Grupos:**\n",
    "\n",
    "La presencia de 441 usuarios en ambos grupos puede sesgar los resultados.\n",
    "\n",
    "**Picos y Caídas en los Eventos:**\n",
    "\n",
    "Los picos y caídas en la distribución de eventos pueden estar influenciados por eventos externos y deben ser tenidos en cuenta al interpretar los resultados.\n",
    "\n",
    "**Resultados de la Prueba A/B:**\n",
    "\n",
    "No hay una diferencia estadísticamente significativa en la tasa de conversión de product_page a product_cart.\n",
    "Hay una diferencia estadísticamente significativa en la tasa de conversión de product_cart a purchase, con una menor tasa de conversión en el grupo B."
   ]
  },
  {
   "cell_type": "markdown",
   "metadata": {},
   "source": [
    "<div class=\"alert alert-block alert-info\">\n",
    "<b>Comentario general (1ra Iteracion)</b> <a class=“tocSkip”></a>\n",
    "\n",
    "Hiciste un trabajo muy bueno Roberto, debo realzar la forma en la que concluiste el proyecto con tus conclusiones.\n",
    "    \n",
    "Solo hay un punto donde la métrica resultante tiene oportunidad de mejora en cuanto al cálculo realizado, te he dejado mi comentario con la sugerencia para que puedas corregirlo.\n",
    "    \n",
    "Saludos.\n",
    "</div>"
   ]
  }
 ],
 "metadata": {
  "ExecuteTimeLog": [
   {
    "duration": 2190,
    "start_time": "2024-07-05T22:52:28.775Z"
   },
   {
    "duration": 5,
    "start_time": "2024-07-05T22:54:25.957Z"
   },
   {
    "duration": 138,
    "start_time": "2024-07-05T22:55:02.801Z"
   },
   {
    "duration": 125,
    "start_time": "2024-07-05T22:55:07.402Z"
   },
   {
    "duration": 121,
    "start_time": "2024-07-05T22:55:15.018Z"
   },
   {
    "duration": 26,
    "start_time": "2024-07-05T22:55:31.940Z"
   },
   {
    "duration": 708,
    "start_time": "2024-07-05T22:56:51.961Z"
   },
   {
    "duration": 11,
    "start_time": "2024-07-05T22:57:02.856Z"
   },
   {
    "duration": 11,
    "start_time": "2024-07-05T22:57:06.364Z"
   },
   {
    "duration": 12,
    "start_time": "2024-07-05T22:57:23.655Z"
   },
   {
    "duration": 15,
    "start_time": "2024-07-05T22:57:25.801Z"
   },
   {
    "duration": 11,
    "start_time": "2024-07-05T22:57:29.145Z"
   },
   {
    "duration": 607,
    "start_time": "2024-07-05T22:57:31.629Z"
   },
   {
    "duration": 479,
    "start_time": "2024-07-05T22:57:45.003Z"
   },
   {
    "duration": 638,
    "start_time": "2024-07-05T22:57:45.486Z"
   },
   {
    "duration": 16,
    "start_time": "2024-07-05T22:57:46.127Z"
   },
   {
    "duration": 12,
    "start_time": "2024-07-05T22:57:46.148Z"
   },
   {
    "duration": 38,
    "start_time": "2024-07-05T22:57:46.163Z"
   },
   {
    "duration": 15,
    "start_time": "2024-07-05T22:57:46.206Z"
   },
   {
    "duration": 13,
    "start_time": "2024-07-05T23:17:49.418Z"
   },
   {
    "duration": 16,
    "start_time": "2024-07-05T23:17:54.963Z"
   },
   {
    "duration": 24,
    "start_time": "2024-07-05T23:18:00.306Z"
   },
   {
    "duration": 14,
    "start_time": "2024-07-05T23:18:02.636Z"
   },
   {
    "duration": 67,
    "start_time": "2024-07-05T23:18:08.353Z"
   },
   {
    "duration": 12,
    "start_time": "2024-07-05T23:18:12.987Z"
   },
   {
    "duration": 484,
    "start_time": "2024-07-06T00:34:05.384Z"
   },
   {
    "duration": 862,
    "start_time": "2024-07-06T00:34:05.874Z"
   },
   {
    "duration": 30,
    "start_time": "2024-07-06T00:34:06.750Z"
   },
   {
    "duration": 44,
    "start_time": "2024-07-06T00:34:06.784Z"
   },
   {
    "duration": 115,
    "start_time": "2024-07-06T00:34:06.843Z"
   },
   {
    "duration": 19,
    "start_time": "2024-07-06T00:34:06.962Z"
   },
   {
    "duration": 32,
    "start_time": "2024-07-06T00:38:23.540Z"
   },
   {
    "duration": 51,
    "start_time": "2024-07-06T00:38:26.389Z"
   },
   {
    "duration": 41,
    "start_time": "2024-07-06T00:38:32.743Z"
   },
   {
    "duration": 139,
    "start_time": "2024-07-06T00:38:38.582Z"
   },
   {
    "duration": 37,
    "start_time": "2024-07-06T00:38:43.027Z"
   },
   {
    "duration": 26,
    "start_time": "2024-07-06T00:38:44.848Z"
   },
   {
    "duration": 4,
    "start_time": "2024-07-06T00:39:10.733Z"
   },
   {
    "duration": 651,
    "start_time": "2024-07-06T00:39:20.546Z"
   },
   {
    "duration": 3,
    "start_time": "2024-07-06T00:39:26.418Z"
   },
   {
    "duration": 641,
    "start_time": "2024-07-06T00:39:28.455Z"
   },
   {
    "duration": 24,
    "start_time": "2024-07-06T00:42:52.543Z"
   },
   {
    "duration": 22,
    "start_time": "2024-07-06T00:43:02.431Z"
   },
   {
    "duration": 28,
    "start_time": "2024-07-06T00:43:08.158Z"
   },
   {
    "duration": 34,
    "start_time": "2024-07-06T00:43:21.294Z"
   },
   {
    "duration": 37,
    "start_time": "2024-07-06T00:43:26.014Z"
   },
   {
    "duration": 49,
    "start_time": "2024-07-06T00:43:54.937Z"
   },
   {
    "duration": 203,
    "start_time": "2024-07-06T00:44:07.529Z"
   },
   {
    "duration": 370,
    "start_time": "2024-07-06T00:44:14.980Z"
   },
   {
    "duration": 317,
    "start_time": "2024-07-06T00:44:25.559Z"
   },
   {
    "duration": 328,
    "start_time": "2024-07-06T00:44:33.807Z"
   },
   {
    "duration": 283,
    "start_time": "2024-07-06T00:44:40.806Z"
   },
   {
    "duration": 347,
    "start_time": "2024-07-06T00:45:16.939Z"
   },
   {
    "duration": 380,
    "start_time": "2024-07-06T00:45:21.557Z"
   },
   {
    "duration": 10,
    "start_time": "2024-07-06T00:45:35.358Z"
   },
   {
    "duration": 280,
    "start_time": "2024-07-06T00:45:44.729Z"
   },
   {
    "duration": 307,
    "start_time": "2024-07-06T00:45:47.438Z"
   },
   {
    "duration": 391,
    "start_time": "2024-07-06T00:45:53.245Z"
   },
   {
    "duration": 27,
    "start_time": "2024-07-06T00:46:08.735Z"
   },
   {
    "duration": 21,
    "start_time": "2024-07-06T00:48:39.285Z"
   },
   {
    "duration": 29,
    "start_time": "2024-07-06T00:48:58.490Z"
   },
   {
    "duration": 30,
    "start_time": "2024-07-06T00:49:10.853Z"
   },
   {
    "duration": 131,
    "start_time": "2024-07-06T00:49:34.785Z"
   },
   {
    "duration": 299,
    "start_time": "2024-07-06T00:49:45.945Z"
   },
   {
    "duration": 13,
    "start_time": "2024-07-06T00:49:56.821Z"
   },
   {
    "duration": 35,
    "start_time": "2024-07-06T00:50:18.198Z"
   },
   {
    "duration": 416,
    "start_time": "2024-07-06T00:55:47.963Z"
   },
   {
    "duration": 621,
    "start_time": "2024-07-06T00:55:48.383Z"
   },
   {
    "duration": 28,
    "start_time": "2024-07-06T00:55:49.008Z"
   },
   {
    "duration": 28,
    "start_time": "2024-07-06T00:55:49.040Z"
   },
   {
    "duration": 100,
    "start_time": "2024-07-06T00:55:49.072Z"
   },
   {
    "duration": 38,
    "start_time": "2024-07-06T00:55:49.175Z"
   },
   {
    "duration": 159,
    "start_time": "2024-07-06T00:55:49.217Z"
   },
   {
    "duration": 305,
    "start_time": "2024-07-06T00:55:49.379Z"
   },
   {
    "duration": 61,
    "start_time": "2024-07-06T01:02:41.634Z"
   },
   {
    "duration": 76,
    "start_time": "2024-07-06T01:02:44.850Z"
   },
   {
    "duration": 300,
    "start_time": "2024-07-06T01:02:48.206Z"
   },
   {
    "duration": 71,
    "start_time": "2024-07-06T01:05:13.282Z"
   },
   {
    "duration": 62,
    "start_time": "2024-07-06T01:05:16.494Z"
   },
   {
    "duration": 85,
    "start_time": "2024-07-06T01:05:18.789Z"
   },
   {
    "duration": 58,
    "start_time": "2024-07-06T01:05:51.525Z"
   },
   {
    "duration": 277,
    "start_time": "2024-07-06T01:08:38.268Z"
   },
   {
    "duration": 10,
    "start_time": "2024-07-06T01:10:29.556Z"
   },
   {
    "duration": 24070,
    "start_time": "2024-07-06T01:21:44.257Z"
   },
   {
    "duration": 490,
    "start_time": "2024-07-06T01:22:08.331Z"
   },
   {
    "duration": 27,
    "start_time": "2024-07-06T01:22:13.263Z"
   },
   {
    "duration": 4,
    "start_time": "2024-07-06T01:22:22.121Z"
   },
   {
    "duration": 4584,
    "start_time": "2024-07-06T01:22:30.105Z"
   },
   {
    "duration": 5,
    "start_time": "2024-07-06T01:23:44.718Z"
   },
   {
    "duration": 271,
    "start_time": "2024-07-06T01:23:53.222Z"
   },
   {
    "duration": 166,
    "start_time": "2024-07-06T01:25:15.181Z"
   },
   {
    "duration": 269,
    "start_time": "2024-07-06T01:25:21.334Z"
   },
   {
    "duration": 15,
    "start_time": "2024-07-06T01:25:26.587Z"
   },
   {
    "duration": 563,
    "start_time": "2024-07-06T01:25:33.217Z"
   },
   {
    "duration": 15,
    "start_time": "2024-07-06T01:25:38.792Z"
   },
   {
    "duration": 4,
    "start_time": "2024-07-06T01:26:17.461Z"
   },
   {
    "duration": 533,
    "start_time": "2024-07-06T01:26:27.609Z"
   },
   {
    "duration": 496,
    "start_time": "2024-07-06T01:26:34.810Z"
   },
   {
    "duration": 671,
    "start_time": "2024-07-06T01:33:31.373Z"
   },
   {
    "duration": 725,
    "start_time": "2024-07-06T01:33:32.048Z"
   },
   {
    "duration": 36,
    "start_time": "2024-07-06T01:33:32.776Z"
   },
   {
    "duration": 40,
    "start_time": "2024-07-06T01:33:32.815Z"
   },
   {
    "duration": 101,
    "start_time": "2024-07-06T01:33:32.862Z"
   },
   {
    "duration": 44,
    "start_time": "2024-07-06T01:33:32.966Z"
   },
   {
    "duration": 146,
    "start_time": "2024-07-06T01:33:33.014Z"
   },
   {
    "duration": 98,
    "start_time": "2024-07-06T01:33:33.163Z"
   },
   {
    "duration": 342,
    "start_time": "2024-07-06T01:33:33.264Z"
   },
   {
    "duration": 24525,
    "start_time": "2024-07-06T01:33:33.610Z"
   },
   {
    "duration": 482,
    "start_time": "2024-07-06T01:33:58.139Z"
   },
   {
    "duration": 28,
    "start_time": "2024-07-06T01:33:58.625Z"
   },
   {
    "duration": 545,
    "start_time": "2024-07-06T01:33:58.656Z"
   },
   {
    "duration": 276,
    "start_time": "2024-07-06T01:33:59.207Z"
   },
   {
    "duration": 203,
    "start_time": "2024-07-06T01:33:59.487Z"
   },
   {
    "duration": 260,
    "start_time": "2024-07-06T01:33:59.693Z"
   },
   {
    "duration": 17,
    "start_time": "2024-07-06T01:33:59.956Z"
   },
   {
    "duration": 555,
    "start_time": "2024-07-06T01:33:59.976Z"
   },
   {
    "duration": 20,
    "start_time": "2024-07-06T01:34:00.535Z"
   },
   {
    "duration": 578,
    "start_time": "2024-07-06T01:52:27.363Z"
   },
   {
    "duration": 121,
    "start_time": "2024-07-06T01:52:33.439Z"
   },
   {
    "duration": 4,
    "start_time": "2024-07-06T01:52:56.533Z"
   },
   {
    "duration": 457,
    "start_time": "2024-07-06T01:53:16.504Z"
   },
   {
    "duration": 135,
    "start_time": "2024-07-06T01:53:24.452Z"
   },
   {
    "duration": 79,
    "start_time": "2024-07-06T01:53:26.271Z"
   },
   {
    "duration": 58,
    "start_time": "2024-07-06T01:53:38.183Z"
   },
   {
    "duration": 31,
    "start_time": "2024-07-06T01:53:44.056Z"
   },
   {
    "duration": 5,
    "start_time": "2024-07-06T01:54:14.016Z"
   },
   {
    "duration": 10,
    "start_time": "2024-07-06T01:54:19.009Z"
   },
   {
    "duration": 7,
    "start_time": "2024-07-06T01:54:20.630Z"
   },
   {
    "duration": 317,
    "start_time": "2024-07-06T06:20:05.521Z"
   },
   {
    "duration": 4816,
    "start_time": "2024-07-06T06:20:11.621Z"
   },
   {
    "duration": 708,
    "start_time": "2024-07-06T06:20:16.440Z"
   },
   {
    "duration": 32,
    "start_time": "2024-07-06T06:20:17.151Z"
   },
   {
    "duration": 35,
    "start_time": "2024-07-06T06:20:17.188Z"
   },
   {
    "duration": 96,
    "start_time": "2024-07-06T06:20:17.226Z"
   },
   {
    "duration": 21,
    "start_time": "2024-07-06T06:20:17.325Z"
   },
   {
    "duration": 162,
    "start_time": "2024-07-06T06:20:17.350Z"
   },
   {
    "duration": 60,
    "start_time": "2024-07-06T06:20:17.514Z"
   },
   {
    "duration": 266,
    "start_time": "2024-07-06T06:20:17.578Z"
   },
   {
    "duration": 23235,
    "start_time": "2024-07-06T06:20:17.849Z"
   },
   {
    "duration": 426,
    "start_time": "2024-07-06T06:20:41.087Z"
   },
   {
    "duration": 27,
    "start_time": "2024-07-06T06:20:41.517Z"
   },
   {
    "duration": 505,
    "start_time": "2024-07-06T06:20:41.547Z"
   },
   {
    "duration": 230,
    "start_time": "2024-07-06T06:20:42.055Z"
   },
   {
    "duration": 176,
    "start_time": "2024-07-06T06:20:42.288Z"
   },
   {
    "duration": 247,
    "start_time": "2024-07-06T06:20:42.468Z"
   },
   {
    "duration": 13,
    "start_time": "2024-07-06T06:20:42.718Z"
   },
   {
    "duration": 507,
    "start_time": "2024-07-06T06:20:42.734Z"
   },
   {
    "duration": 15,
    "start_time": "2024-07-06T06:20:43.244Z"
   },
   {
    "duration": 122,
    "start_time": "2024-07-06T06:20:43.261Z"
   },
   {
    "duration": 23,
    "start_time": "2024-07-06T06:20:43.386Z"
   },
   {
    "duration": 7,
    "start_time": "2024-07-06T06:20:43.411Z"
   },
   {
    "duration": 36,
    "start_time": "2024-07-06T06:21:22.315Z"
   },
   {
    "duration": 25,
    "start_time": "2024-07-06T06:21:26.680Z"
   },
   {
    "duration": 27,
    "start_time": "2024-07-06T06:21:28.234Z"
   },
   {
    "duration": 471,
    "start_time": "2024-07-06T06:27:49.538Z"
   },
   {
    "duration": 8,
    "start_time": "2024-07-06T06:34:48.884Z"
   },
   {
    "duration": 8,
    "start_time": "2024-07-06T06:36:27.399Z"
   },
   {
    "duration": 10,
    "start_time": "2024-07-06T06:45:19.918Z"
   },
   {
    "duration": 120,
    "start_time": "2024-07-06T07:14:09.942Z"
   },
   {
    "duration": 123,
    "start_time": "2024-07-06T07:14:55.200Z"
   },
   {
    "duration": 1173,
    "start_time": "2024-07-06T07:15:16.598Z"
   },
   {
    "duration": 625,
    "start_time": "2024-07-06T07:15:17.774Z"
   },
   {
    "duration": 25,
    "start_time": "2024-07-06T07:15:18.404Z"
   },
   {
    "duration": 29,
    "start_time": "2024-07-06T07:15:18.434Z"
   },
   {
    "duration": 106,
    "start_time": "2024-07-06T07:15:18.466Z"
   },
   {
    "duration": 38,
    "start_time": "2024-07-06T07:15:18.575Z"
   },
   {
    "duration": 138,
    "start_time": "2024-07-06T07:15:18.616Z"
   },
   {
    "duration": 71,
    "start_time": "2024-07-06T07:15:18.757Z"
   },
   {
    "duration": 257,
    "start_time": "2024-07-06T07:15:18.830Z"
   },
   {
    "duration": 22558,
    "start_time": "2024-07-06T07:15:19.092Z"
   },
   {
    "duration": 127,
    "start_time": "2024-07-06T07:15:41.653Z"
   },
   {
    "duration": 419,
    "start_time": "2024-07-06T07:15:41.784Z"
   },
   {
    "duration": 26,
    "start_time": "2024-07-06T07:15:42.206Z"
   },
   {
    "duration": 515,
    "start_time": "2024-07-06T07:15:42.235Z"
   },
   {
    "duration": 228,
    "start_time": "2024-07-06T07:15:42.753Z"
   },
   {
    "duration": 160,
    "start_time": "2024-07-06T07:15:42.984Z"
   },
   {
    "duration": 10,
    "start_time": "2024-07-06T07:15:43.147Z"
   },
   {
    "duration": 6,
    "start_time": "2024-07-06T07:15:43.161Z"
   },
   {
    "duration": 1131,
    "start_time": "2024-07-06T07:21:57.353Z"
   },
   {
    "duration": 608,
    "start_time": "2024-07-06T07:21:58.487Z"
   },
   {
    "duration": 26,
    "start_time": "2024-07-06T07:21:59.098Z"
   },
   {
    "duration": 29,
    "start_time": "2024-07-06T07:21:59.129Z"
   },
   {
    "duration": 120,
    "start_time": "2024-07-06T07:21:59.161Z"
   },
   {
    "duration": 35,
    "start_time": "2024-07-06T07:21:59.285Z"
   },
   {
    "duration": 146,
    "start_time": "2024-07-06T07:21:59.324Z"
   },
   {
    "duration": 72,
    "start_time": "2024-07-06T07:21:59.473Z"
   },
   {
    "duration": 275,
    "start_time": "2024-07-06T07:21:59.548Z"
   },
   {
    "duration": 22818,
    "start_time": "2024-07-06T07:21:59.830Z"
   },
   {
    "duration": 125,
    "start_time": "2024-07-06T07:22:22.651Z"
   },
   {
    "duration": 418,
    "start_time": "2024-07-06T07:22:22.778Z"
   },
   {
    "duration": 26,
    "start_time": "2024-07-06T07:22:23.203Z"
   },
   {
    "duration": 517,
    "start_time": "2024-07-06T07:22:23.232Z"
   },
   {
    "duration": 226,
    "start_time": "2024-07-06T07:22:23.751Z"
   },
   {
    "duration": 156,
    "start_time": "2024-07-06T07:22:23.980Z"
   },
   {
    "duration": 11,
    "start_time": "2024-07-06T07:22:24.139Z"
   },
   {
    "duration": 7,
    "start_time": "2024-07-06T07:22:24.153Z"
   },
   {
    "duration": 88,
    "start_time": "2024-07-06T07:27:44.932Z"
   },
   {
    "duration": 88,
    "start_time": "2024-07-06T07:27:49.488Z"
   },
   {
    "duration": 88,
    "start_time": "2024-07-06T07:28:04.618Z"
   },
   {
    "duration": 88,
    "start_time": "2024-07-06T07:28:13.720Z"
   },
   {
    "duration": 89,
    "start_time": "2024-07-06T07:28:15.218Z"
   },
   {
    "duration": 1159,
    "start_time": "2024-07-06T07:28:28.611Z"
   },
   {
    "duration": 607,
    "start_time": "2024-07-06T07:28:29.773Z"
   },
   {
    "duration": 29,
    "start_time": "2024-07-06T07:28:30.383Z"
   },
   {
    "duration": 29,
    "start_time": "2024-07-06T07:28:30.415Z"
   },
   {
    "duration": 104,
    "start_time": "2024-07-06T07:28:30.449Z"
   },
   {
    "duration": 21,
    "start_time": "2024-07-06T07:28:30.556Z"
   },
   {
    "duration": 128,
    "start_time": "2024-07-06T07:28:30.603Z"
   },
   {
    "duration": 70,
    "start_time": "2024-07-06T07:28:30.734Z"
   },
   {
    "duration": 262,
    "start_time": "2024-07-06T07:28:30.807Z"
   },
   {
    "duration": 22557,
    "start_time": "2024-07-06T07:28:31.073Z"
   },
   {
    "duration": 125,
    "start_time": "2024-07-06T07:28:53.633Z"
   },
   {
    "duration": 434,
    "start_time": "2024-07-06T07:28:53.761Z"
   },
   {
    "duration": 26,
    "start_time": "2024-07-06T07:28:54.198Z"
   },
   {
    "duration": 505,
    "start_time": "2024-07-06T07:28:54.229Z"
   },
   {
    "duration": 232,
    "start_time": "2024-07-06T07:28:54.737Z"
   },
   {
    "duration": 158,
    "start_time": "2024-07-06T07:28:54.972Z"
   },
   {
    "duration": 9,
    "start_time": "2024-07-06T07:28:55.133Z"
   },
   {
    "duration": 6,
    "start_time": "2024-07-06T07:28:55.145Z"
   },
   {
    "duration": 1273,
    "start_time": "2024-07-06T07:33:38.003Z"
   },
   {
    "duration": 209,
    "start_time": "2024-07-06T07:33:44.075Z"
   },
   {
    "duration": 1140,
    "start_time": "2024-07-06T07:34:01.928Z"
   },
   {
    "duration": 607,
    "start_time": "2024-07-06T07:34:03.072Z"
   },
   {
    "duration": 35,
    "start_time": "2024-07-06T07:34:03.682Z"
   },
   {
    "duration": 29,
    "start_time": "2024-07-06T07:34:03.721Z"
   },
   {
    "duration": 104,
    "start_time": "2024-07-06T07:34:03.753Z"
   },
   {
    "duration": 20,
    "start_time": "2024-07-06T07:34:03.860Z"
   },
   {
    "duration": 136,
    "start_time": "2024-07-06T07:34:03.903Z"
   },
   {
    "duration": 77,
    "start_time": "2024-07-06T07:34:04.042Z"
   },
   {
    "duration": 256,
    "start_time": "2024-07-06T07:34:04.122Z"
   },
   {
    "duration": 22901,
    "start_time": "2024-07-06T07:34:04.382Z"
   },
   {
    "duration": 118,
    "start_time": "2024-07-06T07:34:27.286Z"
   },
   {
    "duration": 434,
    "start_time": "2024-07-06T07:34:27.407Z"
   },
   {
    "duration": 27,
    "start_time": "2024-07-06T07:34:27.844Z"
   },
   {
    "duration": 529,
    "start_time": "2024-07-06T07:34:27.874Z"
   },
   {
    "duration": 234,
    "start_time": "2024-07-06T07:34:28.406Z"
   },
   {
    "duration": 151,
    "start_time": "2024-07-06T07:34:28.643Z"
   },
   {
    "duration": 10,
    "start_time": "2024-07-06T07:34:28.800Z"
   },
   {
    "duration": 7,
    "start_time": "2024-07-06T07:34:28.812Z"
   },
   {
    "duration": 1115,
    "start_time": "2024-07-09T22:25:49.799Z"
   },
   {
    "duration": 614,
    "start_time": "2024-07-09T22:25:50.918Z"
   },
   {
    "duration": 25,
    "start_time": "2024-07-09T22:25:51.535Z"
   },
   {
    "duration": 29,
    "start_time": "2024-07-09T22:25:51.564Z"
   },
   {
    "duration": 136,
    "start_time": "2024-07-09T22:25:51.596Z"
   },
   {
    "duration": 35,
    "start_time": "2024-07-09T22:25:51.735Z"
   },
   {
    "duration": 160,
    "start_time": "2024-07-09T22:25:51.779Z"
   },
   {
    "duration": 63,
    "start_time": "2024-07-09T22:25:51.942Z"
   },
   {
    "duration": 291,
    "start_time": "2024-07-09T22:25:52.010Z"
   },
   {
    "duration": 23582,
    "start_time": "2024-07-09T22:25:52.306Z"
   },
   {
    "duration": 144,
    "start_time": "2024-07-09T22:26:15.891Z"
   },
   {
    "duration": 426,
    "start_time": "2024-07-09T22:26:16.038Z"
   },
   {
    "duration": 27,
    "start_time": "2024-07-09T22:26:16.467Z"
   },
   {
    "duration": 524,
    "start_time": "2024-07-09T22:26:16.498Z"
   },
   {
    "duration": 225,
    "start_time": "2024-07-09T22:26:17.031Z"
   },
   {
    "duration": 151,
    "start_time": "2024-07-09T22:26:17.260Z"
   },
   {
    "duration": 19,
    "start_time": "2024-07-09T22:26:17.414Z"
   },
   {
    "duration": 6,
    "start_time": "2024-07-09T22:26:17.436Z"
   },
   {
    "duration": 5607,
    "start_time": "2024-07-10T06:37:30.653Z"
   },
   {
    "duration": 689,
    "start_time": "2024-07-10T06:37:36.264Z"
   },
   {
    "duration": 27,
    "start_time": "2024-07-10T06:37:36.957Z"
   },
   {
    "duration": 53,
    "start_time": "2024-07-10T06:37:36.989Z"
   },
   {
    "duration": 90,
    "start_time": "2024-07-10T06:37:37.046Z"
   },
   {
    "duration": 22,
    "start_time": "2024-07-10T06:37:37.139Z"
   },
   {
    "duration": 151,
    "start_time": "2024-07-10T06:37:37.164Z"
   },
   {
    "duration": 62,
    "start_time": "2024-07-10T06:37:37.318Z"
   },
   {
    "duration": 262,
    "start_time": "2024-07-10T06:37:37.383Z"
   },
   {
    "duration": 23722,
    "start_time": "2024-07-10T06:37:37.651Z"
   },
   {
    "duration": 125,
    "start_time": "2024-07-10T06:38:01.377Z"
   },
   {
    "duration": 435,
    "start_time": "2024-07-10T06:38:01.505Z"
   },
   {
    "duration": 27,
    "start_time": "2024-07-10T06:38:01.943Z"
   },
   {
    "duration": 562,
    "start_time": "2024-07-10T06:38:01.973Z"
   },
   {
    "duration": 248,
    "start_time": "2024-07-10T06:38:02.538Z"
   },
   {
    "duration": 162,
    "start_time": "2024-07-10T06:38:02.789Z"
   },
   {
    "duration": 10,
    "start_time": "2024-07-10T06:38:02.955Z"
   },
   {
    "duration": 7,
    "start_time": "2024-07-10T06:38:02.968Z"
   },
   {
    "duration": 164,
    "start_time": "2024-07-10T06:40:57.467Z"
   },
   {
    "duration": 1361,
    "start_time": "2024-07-10T06:41:23.353Z"
   },
   {
    "duration": 742,
    "start_time": "2024-07-10T06:41:24.719Z"
   },
   {
    "duration": 25,
    "start_time": "2024-07-10T06:41:25.463Z"
   },
   {
    "duration": 51,
    "start_time": "2024-07-10T06:41:25.494Z"
   },
   {
    "duration": 119,
    "start_time": "2024-07-10T06:41:25.549Z"
   },
   {
    "duration": 33,
    "start_time": "2024-07-10T06:41:25.672Z"
   },
   {
    "duration": 148,
    "start_time": "2024-07-10T06:41:25.712Z"
   },
   {
    "duration": 93,
    "start_time": "2024-07-10T06:41:25.863Z"
   },
   {
    "duration": 286,
    "start_time": "2024-07-10T06:41:25.963Z"
   },
   {
    "duration": 23094,
    "start_time": "2024-07-10T06:41:26.254Z"
   },
   {
    "duration": 140,
    "start_time": "2024-07-10T06:41:49.352Z"
   },
   {
    "duration": 408,
    "start_time": "2024-07-10T06:41:49.495Z"
   },
   {
    "duration": 39,
    "start_time": "2024-07-10T06:41:49.906Z"
   },
   {
    "duration": 496,
    "start_time": "2024-07-10T06:41:49.948Z"
   },
   {
    "duration": 229,
    "start_time": "2024-07-10T06:41:50.448Z"
   },
   {
    "duration": 152,
    "start_time": "2024-07-10T06:41:50.679Z"
   },
   {
    "duration": 10,
    "start_time": "2024-07-10T06:41:50.834Z"
   },
   {
    "duration": 7,
    "start_time": "2024-07-10T06:41:50.847Z"
   },
   {
    "duration": 167,
    "start_time": "2024-07-10T06:43:16.607Z"
   },
   {
    "duration": 316,
    "start_time": "2024-07-10T06:43:35.620Z"
   },
   {
    "duration": 1166,
    "start_time": "2024-07-10T06:45:56.048Z"
   },
   {
    "duration": 616,
    "start_time": "2024-07-10T06:45:57.218Z"
   },
   {
    "duration": 26,
    "start_time": "2024-07-10T06:45:57.837Z"
   },
   {
    "duration": 30,
    "start_time": "2024-07-10T06:45:57.866Z"
   },
   {
    "duration": 73,
    "start_time": "2024-07-10T06:45:57.933Z"
   },
   {
    "duration": 40,
    "start_time": "2024-07-10T06:45:58.009Z"
   },
   {
    "duration": 157,
    "start_time": "2024-07-10T06:45:58.054Z"
   },
   {
    "duration": 69,
    "start_time": "2024-07-10T06:45:58.214Z"
   },
   {
    "duration": 264,
    "start_time": "2024-07-10T06:45:58.286Z"
   },
   {
    "duration": 473,
    "start_time": "2024-07-10T06:45:58.553Z"
   },
   {
    "duration": 0,
    "start_time": "2024-07-10T06:45:59.031Z"
   },
   {
    "duration": 0,
    "start_time": "2024-07-10T06:45:59.033Z"
   },
   {
    "duration": 0,
    "start_time": "2024-07-10T06:45:59.036Z"
   },
   {
    "duration": 0,
    "start_time": "2024-07-10T06:45:59.038Z"
   },
   {
    "duration": 0,
    "start_time": "2024-07-10T06:45:59.041Z"
   },
   {
    "duration": 0,
    "start_time": "2024-07-10T06:45:59.043Z"
   },
   {
    "duration": 0,
    "start_time": "2024-07-10T06:45:59.045Z"
   },
   {
    "duration": 0,
    "start_time": "2024-07-10T06:45:59.047Z"
   },
   {
    "duration": 120,
    "start_time": "2024-07-10T06:55:49.289Z"
   },
   {
    "duration": 294,
    "start_time": "2024-07-10T06:56:25.804Z"
   },
   {
    "duration": 339,
    "start_time": "2024-07-10T06:56:27.728Z"
   },
   {
    "duration": 292,
    "start_time": "2024-07-10T06:57:28.130Z"
   },
   {
    "duration": 273,
    "start_time": "2024-07-10T06:57:46.672Z"
   },
   {
    "duration": 8,
    "start_time": "2024-07-10T07:00:37.662Z"
   },
   {
    "duration": 1186,
    "start_time": "2024-07-10T07:02:57.108Z"
   },
   {
    "duration": 646,
    "start_time": "2024-07-10T07:02:58.297Z"
   },
   {
    "duration": 25,
    "start_time": "2024-07-10T07:02:58.946Z"
   },
   {
    "duration": 55,
    "start_time": "2024-07-10T07:02:58.975Z"
   },
   {
    "duration": 74,
    "start_time": "2024-07-10T07:02:59.033Z"
   },
   {
    "duration": 38,
    "start_time": "2024-07-10T07:02:59.110Z"
   },
   {
    "duration": 149,
    "start_time": "2024-07-10T07:02:59.151Z"
   },
   {
    "duration": 72,
    "start_time": "2024-07-10T07:02:59.303Z"
   },
   {
    "duration": 252,
    "start_time": "2024-07-10T07:02:59.378Z"
   },
   {
    "duration": 310,
    "start_time": "2024-07-10T07:02:59.635Z"
   },
   {
    "duration": 423,
    "start_time": "2024-07-10T07:02:59.948Z"
   },
   {
    "duration": 28,
    "start_time": "2024-07-10T07:03:00.374Z"
   },
   {
    "duration": 528,
    "start_time": "2024-07-10T07:03:00.405Z"
   },
   {
    "duration": 233,
    "start_time": "2024-07-10T07:03:00.937Z"
   },
   {
    "duration": 160,
    "start_time": "2024-07-10T07:03:01.174Z"
   },
   {
    "duration": 10,
    "start_time": "2024-07-10T07:03:01.337Z"
   },
   {
    "duration": 6,
    "start_time": "2024-07-10T07:03:01.350Z"
   },
   {
    "duration": 164,
    "start_time": "2024-07-10T07:05:35.826Z"
   }
  ],
  "kernelspec": {
   "display_name": "Python 3 (ipykernel)",
   "language": "python",
   "name": "python3"
  },
  "language_info": {
   "codemirror_mode": {
    "name": "ipython",
    "version": 3
   },
   "file_extension": ".py",
   "mimetype": "text/x-python",
   "name": "python",
   "nbconvert_exporter": "python",
   "pygments_lexer": "ipython3",
   "version": "3.9.19"
  },
  "toc": {
   "base_numbering": 1,
   "nav_menu": {},
   "number_sections": true,
   "sideBar": true,
   "skip_h1_title": true,
   "title_cell": "Table of Contents",
   "title_sidebar": "Contents",
   "toc_cell": false,
   "toc_position": {},
   "toc_section_display": true,
   "toc_window_display": false
  }
 },
 "nbformat": 4,
 "nbformat_minor": 2
}
